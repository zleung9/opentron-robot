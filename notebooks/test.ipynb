{
 "cells": [
  {
   "cell_type": "code",
   "execution_count": 1,
   "metadata": {},
   "outputs": [],
   "source": [
    "import os\n",
    "from auto.remote import RemoteStation\n",
    "import json\n",
    "%reload_ext autoreload\n",
    "%autoreload 1\n",
    "%aimport auto\n",
    "%aimport auto.utils"
   ]
  },
  {
   "cell_type": "code",
   "execution_count": 2,
   "metadata": {},
   "outputs": [
    {
     "ename": "SyntaxError",
     "evalue": "invalid syntax (761971818.py, line 8)",
     "output_type": "error",
     "traceback": [
      "\u001b[1;36m  Input \u001b[1;32mIn [2]\u001b[1;36m\u001b[0m\n\u001b[1;33m    key_path=\"C:\\\\Users\\\\Automat\\\\Documents\\\\automation_control\\\\.ssh\\\\ssh_key_OT2_SDWF\"\u001b[0m\n\u001b[1;37m    ^\u001b[0m\n\u001b[1;31mSyntaxError\u001b[0m\u001b[1;31m:\u001b[0m invalid syntax\n"
     ]
    }
   ],
   "source": [
    "with open(\"config.json\", \"r\") as f:\n",
    "    config = json.load(f)\n",
    "\n",
    "ot2 = RemoteStation(\"OT2\", execution_mode=\"ot2\")\n",
    "ot2.connect(\n",
    "    hostname=config.ip, \n",
    "    port=config.port,\n",
    "    key_path=config.ssh_key\n",
    ")"
   ]
  },
  {
   "cell_type": "code",
   "execution_count": 11,
   "metadata": {},
   "outputs": [],
   "source": [
    "#Update script to OT2\n",
    "ot2.put(\n",
    "    \"demo_exp_1\",\n",
    "    local_path='C:\\\\users\\\\automat\\\\documents\\\\automation_control\\\\scripts\\\\'\n",
    ")\n",
    "ot2.work_dir = os.path.join(ot2.remote_root_dir, \"demo_exp_1/\")"
   ]
  },
  {
   "cell_type": "code",
   "execution_count": 12,
   "metadata": {},
   "outputs": [
    {
     "name": "stdout",
     "output_type": "stream",
     "text": [
      "/data/user_storage/demo_exp_1\n",
      "robot server stopped\n"
     ]
    }
   ],
   "source": [
    "out = ot2.execute(\"stop.py\", mode=\"python\")\n",
    "out"
   ]
  },
  {
   "cell_type": "code",
   "execution_count": 13,
   "metadata": {},
   "outputs": [
    {
     "name": "stdout",
     "output_type": "stream",
     "text": [
      "/data/user_storage/demo_exp_1\n",
      "Script starts at: 2023-12-21 19:14:58.828118\n",
      "Loading opentron modules...\n",
      "Loading complete...\n",
      "Start\n",
      "2023-12-21 19:15:18.942928\n",
      "2023-12-21 19:15:19.944297\n",
      "2023-12-21 19:15:20.945685\n",
      "2023-12-21 19:15:21.947021\n",
      "2023-12-21 19:15:22.948416\n",
      "2023-12-21 19:15:23.949806\n",
      "2023-12-21 19:15:24.951197\n",
      "2023-12-21 19:15:25.952567\n",
      "2023-12-21 19:15:26.953926\n",
      "2023-12-21 19:15:27.955300\n"
     ]
    }
   ],
   "source": [
    "ot2.execute(\"move_around.py\", mode=\"python\")"
   ]
  },
  {
   "cell_type": "code",
   "execution_count": 14,
   "metadata": {},
   "outputs": [
    {
     "name": "stdout",
     "output_type": "stream",
     "text": [
      "/data/user_storage/demo_exp_1\n",
      "/data/robot_settings.json not found. Loading defaults\n",
      "/data/deck_calibration.json not found. Loading defaults\n",
      "Server is up and listing on the port 23...\n",
      "Connected to Client at: ('169.254.47.237', 52357)!\n",
      " Delaying for 0 minutes and 3.0 seconds\n",
      " Moving to B1 of automat_2x4wellplate_20ml on 9\n",
      "Out of bounds move: A=(170.15000000000003 motor controller, 170.15000000000003 deck) too high for limit 170.15\n",
      "Out of bounds move: A=(170.15000000000003 motor controller, 170.15000000000003 deck) too high for limit 170.15\n",
      " Picking up tip from A1 of Opentrons 96 Tip Rack 1000 µL on 1\n",
      " Moving to B1 of automat_2x4wellplate_20ml on 9\n",
      "Out of bounds move: A=(170.15000000000003 motor controller, 170.15000000000003 deck) too high for limit 170.15\n",
      "Out of bounds move: A=(170.15000000000003 motor controller, 170.15000000000003 deck) too high for limit 170.15\n",
      " Moving to B1 of automat_2x4wellplate_20ml on 9\n",
      " Moving to B1 of automat_2x4wellplate_20ml on 9\n",
      " Dropping tip into A1 of Opentrons 96 Tip Rack 1000 µL on 1\n",
      " Moving to A1 of Opentrons 96 Tip Rack 1000 µL on 1\n",
      " Picking up tip from A2 of Opentrons 96 Tip Rack 1000 µL on 11\n",
      " Moving to B1 of automat_2x4wellplate_20ml on 9\n",
      "Out of bounds move: A=(170.15000000000003 motor controller, 170.15000000000003 deck) too high for limit 170.15\n",
      "Out of bounds move: A=(170.15000000000003 motor controller, 170.15000000000003 deck) too high for limit 170.15\n",
      " Moving to B1 of automat_2x4wellplate_20ml on 9\n",
      "Measurement in progress...\n",
      "Measurement completed...\n",
      "Finish\n",
      " Delaying for 0 minutes and 1.0 seconds\n",
      " Moving to A1 of Opentrons 96 Tip Rack 1000 µL on 11\n",
      " Dropping tip into B4 of Opentrons 96 Tip Rack 1000 µL on 11\n",
      " Delaying for 0 minutes and 1.0 seconds\n",
      " Moving to B1 of automat_2x4wellplate_20ml on 9\n",
      " Moving to B1 of automat_2x4wellplate_20ml on 9\n",
      " Moving to B1 of automat_2x4wellplate_20ml on 9\n",
      " Moving to A1 of automat_2x4wellplate_20ml on 9\n",
      " Moving to A1 of automat_2x4wellplate_20ml on 9\n",
      " Moving to A1 of automat_2x4wellplate_20ml on 9\n",
      " Delaying for 0 minutes and 1.0 seconds\n",
      " Moving to A1 of automat_2x4wellplate_20ml on 9\n",
      "Conductivity measured: A1!\n",
      " Moving to A2 of automat_2x4wellplate_20ml on 9\n",
      " Moving to A2 of automat_2x4wellplate_20ml on 9\n",
      " Moving to A2 of automat_2x4wellplate_20ml on 9\n",
      " Delaying for 0 minutes and 1.0 seconds\n",
      " Moving to A2 of automat_2x4wellplate_20ml on 9\n",
      "Conductivity measured: A2!\n",
      " Moving to A3 of automat_2x4wellplate_20ml on 9\n",
      " Moving to A3 of automat_2x4wellplate_20ml on 9\n",
      " Moving to A3 of automat_2x4wellplate_20ml on 9\n",
      " Delaying for 0 minutes and 1.0 seconds\n",
      " Moving to A3 of automat_2x4wellplate_20ml on 9\n",
      "Conductivity measured: A3!\n",
      " Moving to A4 of automat_2x4wellplate_20ml on 9\n",
      " Moving to A4 of automat_2x4wellplate_20ml on 9\n",
      " Moving to A4 of automat_2x4wellplate_20ml on 9\n",
      " Delaying for 0 minutes and 1.0 seconds\n",
      " Moving to A4 of automat_2x4wellplate_20ml on 9\n",
      "Conductivity measured: A4!\n",
      " Moving to B1 of automat_2x4wellplate_20ml on 9\n",
      " Moving to B1 of automat_2x4wellplate_20ml on 9\n",
      " Moving to B1 of automat_2x4wellplate_20ml on 9\n",
      " Delaying for 0 minutes and 1.0 seconds\n",
      " Moving to B1 of automat_2x4wellplate_20ml on 9\n",
      "Conductivity measured: B1!\n",
      " Moving to B2 of automat_2x4wellplate_20ml on 9\n",
      " Moving to B2 of automat_2x4wellplate_20ml on 9\n",
      " Moving to B2 of automat_2x4wellplate_20ml on 9\n",
      " Delaying for 0 minutes and 1.0 seconds\n",
      " Moving to B2 of automat_2x4wellplate_20ml on 9\n",
      "Conductivity measured: B2!\n",
      " Moving to B3 of automat_2x4wellplate_20ml on 9\n",
      " Moving to B3 of automat_2x4wellplate_20ml on 9\n",
      " Moving to B3 of automat_2x4wellplate_20ml on 9\n",
      "Interruption detedted: 2023-12-21 11:18:20.505894\n",
      "Interrupted: 2023-12-21 11:18:20.522397\n"
     ]
    }
   ],
   "source": [
    "ot2.execute(\"move_around2.py\", mode=\"ot2\")"
   ]
  }
 ],
 "metadata": {
  "kernelspec": {
   "display_name": "Python 3 (ipykernel)",
   "language": "python",
   "name": "python3"
  },
  "language_info": {
   "codemirror_mode": {
    "name": "ipython",
    "version": 3
   },
   "file_extension": ".py",
   "mimetype": "text/x-python",
   "name": "python",
   "nbconvert_exporter": "python",
   "pygments_lexer": "ipython3",
   "version": "3.9.12"
  }
 },
 "nbformat": 4,
 "nbformat_minor": 2
}
