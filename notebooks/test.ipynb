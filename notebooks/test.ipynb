{
 "cells": [
  {
   "cell_type": "code",
   "execution_count": 3,
   "metadata": {},
   "outputs": [],
   "source": [
    "from auto.robot import Robot\n",
    "%reload_ext autoreload\n",
    "%autoreload 1\n",
    "%aimport auto.robot"
   ]
  },
  {
   "cell_type": "code",
   "execution_count": 98,
   "metadata": {},
   "outputs": [],
   "source": [
    "a = Robot(\"Agent1\")\n",
    "# a.work_dir = \"C:\\\\Users\\\\Automat\\\\Documents\\\\automation_control\\\\scripts\""
   ]
  },
  {
   "cell_type": "code",
   "execution_count": 99,
   "metadata": {},
   "outputs": [
    {
     "name": "stdout",
     "output_type": "stream",
     "text": [
      "Hello!\n",
      "{'output1': 1, 'output2': 2}\n",
      "\n"
     ]
    }
   ],
   "source": [
    "stdout, stderr = a.execute(\"hello.py\")\n",
    "print(stdout)"
   ]
  },
  {
   "cell_type": "code",
   "execution_count": 100,
   "metadata": {},
   "outputs": [
    {
     "name": "stderr",
     "output_type": "stream",
     "text": [
      "c:\\ProgramData\\Anaconda3\\lib\\site-packages\\paramiko\\client.py:837: UserWarning: Unknown ecdsa-sha2-nistp256 host key for 169.254.204.106: b'9e2bc38bd1b1cdebd6b659c3eec087fa'\n",
      "  warnings.warn(\n"
     ]
    }
   ],
   "source": [
    "b = Robot(\"Agent2\")\n",
    "b.connect(\n",
    "    hostname=\"169.254.204.106\", \n",
    "    key_path=\"C:\\\\Users\\\\Automat\\\\Documents\\\\automation_control\\\\.ssh\\\\ssh_key_OT2_SDWF\"\n",
    ")"
   ]
  },
  {
   "cell_type": "code",
   "execution_count": 103,
   "metadata": {},
   "outputs": [],
   "source": [
    "b.upload(\"sdwf.py\")\n",
    "stdout, stderr = b.execute(\"sdwf.py\")"
   ]
  },
  {
   "cell_type": "code",
   "execution_count": 104,
   "metadata": {},
   "outputs": [
    {
     "name": "stdout",
     "output_type": "stream",
     "text": [
      "Hello!\n",
      "{'output1': 1, 'output3': 3}\n",
      "\n"
     ]
    }
   ],
   "source": [
    "print(stdout)"
   ]
  },
  {
   "cell_type": "code",
   "execution_count": null,
   "metadata": {},
   "outputs": [],
   "source": []
  }
 ],
 "metadata": {
  "kernelspec": {
   "display_name": "btch",
   "language": "python",
   "name": "python3"
  },
  "language_info": {
   "codemirror_mode": {
    "name": "ipython",
    "version": 3
   },
   "file_extension": ".py",
   "mimetype": "text/x-python",
   "name": "python",
   "nbconvert_exporter": "python",
   "pygments_lexer": "ipython3",
   "version": "3.9.12"
  }
 },
 "nbformat": 4,
 "nbformat_minor": 2
}
