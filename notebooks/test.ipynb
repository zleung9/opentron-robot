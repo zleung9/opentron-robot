{
 "cells": [
  {
   "cell_type": "code",
   "execution_count": 16,
   "metadata": {},
   "outputs": [],
   "source": [
    "import os\n",
    "from auto.remote import RemoteStation\n",
    "import json\n",
    "%reload_ext autoreload\n",
    "%autoreload 1\n",
    "%aimport auto\n",
    "%aimport auto.utils"
   ]
  },
  {
   "cell_type": "code",
   "execution_count": 17,
   "metadata": {},
   "outputs": [],
   "source": [
    "root_path = \"C:\\\\Users\\\\Automat\\\\Documents\\\\automation_control\\\\tests\\\\\"\n",
    "experiment_folder = \"demo_exp_1\""
   ]
  },
  {
   "cell_type": "code",
   "execution_count": 18,
   "metadata": {},
   "outputs": [],
   "source": [
    "\n",
    "experiment_path = os.path.join(root_path, experiment_folder)\n",
    "config_path = os.path.join(experiment_path, \"config.json\")\n",
    "with open(config_path, \"r\") as f:\n",
    "    config = json.load(f)\n",
    "\n",
    "ot2 = RemoteStation(\"OT2\", execution_mode=\"ot2\", config=config[\"Remote Stations\"][\"OT2\"])\n",
    "ot2.connect()"
   ]
  },
  {
   "cell_type": "code",
   "execution_count": 19,
   "metadata": {},
   "outputs": [],
   "source": [
    "#Update script to OT2\n",
    "ot2.put(\n",
    "    \"demo_exp_1\",\n",
    "    local_path='C:\\\\users\\\\automat\\\\documents\\\\automation_control\\\\tests\\\\'\n",
    ")\n",
    "ot2.work_dir = os.path.join(ot2.remote_root_dir, \"demo_exp_1/\")"
   ]
  },
  {
   "cell_type": "code",
   "execution_count": 20,
   "metadata": {},
   "outputs": [
    {
     "name": "stdout",
     "output_type": "stream",
     "text": [
      "/data/user_storage/demo_exp_1\n",
      "robot server stopped\n"
     ]
    }
   ],
   "source": [
    "ot2.execute(\"stop.py\", mode=\"python\")"
   ]
  },
  {
   "cell_type": "code",
   "execution_count": 27,
   "metadata": {},
   "outputs": [
    {
     "name": "stdout",
     "output_type": "stream",
     "text": [
      "/data/user_storage/demo_exp_1\n",
      "Script starts at: 2023-12-28 00:21:10.888577\n",
      "Loading opentron modules...\n",
      "Loading complete...\n",
      "Start\n",
      "2023-12-28 00:21:31.184716\n",
      "2023-12-28 00:21:32.186084\n",
      "2023-12-28 00:21:33.187477\n",
      "2023-12-28 00:21:34.188863\n",
      "2023-12-28 00:21:35.190185\n",
      "2023-12-28 00:21:36.191481\n",
      "2023-12-28 00:21:37.192893\n",
      "2023-12-28 00:21:38.194274\n",
      "2023-12-28 00:21:39.195658\n",
      "2023-12-28 00:21:40.197011\n"
     ]
    }
   ],
   "source": [
    "ot2.execute(\"move_around.py\", mode=\"python\")"
   ]
  },
  {
   "cell_type": "code",
   "execution_count": 14,
   "metadata": {},
   "outputs": [
    {
     "name": "stdout",
     "output_type": "stream",
     "text": [
      "/data/user_storage/demo_exp_1\n",
      "/data/robot_settings.json not found. Loading defaults\n",
      "/data/deck_calibration.json not found. Loading defaults\n",
      "Server is up and listing on the port 23...\n",
      "Connected to Client at: ('169.254.47.237', 52357)!\n",
      " Delaying for 0 minutes and 3.0 seconds\n",
      " Moving to B1 of automat_2x4wellplate_20ml on 9\n",
      "Out of bounds move: A=(170.15000000000003 motor controller, 170.15000000000003 deck) too high for limit 170.15\n",
      "Out of bounds move: A=(170.15000000000003 motor controller, 170.15000000000003 deck) too high for limit 170.15\n",
      " Picking up tip from A1 of Opentrons 96 Tip Rack 1000 µL on 1\n",
      " Moving to B1 of automat_2x4wellplate_20ml on 9\n",
      "Out of bounds move: A=(170.15000000000003 motor controller, 170.15000000000003 deck) too high for limit 170.15\n",
      "Out of bounds move: A=(170.15000000000003 motor controller, 170.15000000000003 deck) too high for limit 170.15\n",
      " Moving to B1 of automat_2x4wellplate_20ml on 9\n",
      " Moving to B1 of automat_2x4wellplate_20ml on 9\n",
      " Dropping tip into A1 of Opentrons 96 Tip Rack 1000 µL on 1\n",
      " Moving to A1 of Opentrons 96 Tip Rack 1000 µL on 1\n",
      " Picking up tip from A2 of Opentrons 96 Tip Rack 1000 µL on 11\n",
      " Moving to B1 of automat_2x4wellplate_20ml on 9\n",
      "Out of bounds move: A=(170.15000000000003 motor controller, 170.15000000000003 deck) too high for limit 170.15\n",
      "Out of bounds move: A=(170.15000000000003 motor controller, 170.15000000000003 deck) too high for limit 170.15\n",
      " Moving to B1 of automat_2x4wellplate_20ml on 9\n",
      "Measurement in progress...\n",
      "Measurement completed...\n",
      "Finish\n",
      " Delaying for 0 minutes and 1.0 seconds\n",
      " Moving to A1 of Opentrons 96 Tip Rack 1000 µL on 11\n",
      " Dropping tip into B4 of Opentrons 96 Tip Rack 1000 µL on 11\n",
      " Delaying for 0 minutes and 1.0 seconds\n",
      " Moving to B1 of automat_2x4wellplate_20ml on 9\n",
      " Moving to B1 of automat_2x4wellplate_20ml on 9\n",
      " Moving to B1 of automat_2x4wellplate_20ml on 9\n",
      " Moving to A1 of automat_2x4wellplate_20ml on 9\n",
      " Moving to A1 of automat_2x4wellplate_20ml on 9\n",
      " Moving to A1 of automat_2x4wellplate_20ml on 9\n",
      " Delaying for 0 minutes and 1.0 seconds\n",
      " Moving to A1 of automat_2x4wellplate_20ml on 9\n",
      "Conductivity measured: A1!\n",
      " Moving to A2 of automat_2x4wellplate_20ml on 9\n",
      " Moving to A2 of automat_2x4wellplate_20ml on 9\n",
      " Moving to A2 of automat_2x4wellplate_20ml on 9\n",
      " Delaying for 0 minutes and 1.0 seconds\n",
      " Moving to A2 of automat_2x4wellplate_20ml on 9\n",
      "Conductivity measured: A2!\n",
      " Moving to A3 of automat_2x4wellplate_20ml on 9\n",
      " Moving to A3 of automat_2x4wellplate_20ml on 9\n",
      " Moving to A3 of automat_2x4wellplate_20ml on 9\n",
      " Delaying for 0 minutes and 1.0 seconds\n",
      " Moving to A3 of automat_2x4wellplate_20ml on 9\n",
      "Conductivity measured: A3!\n",
      " Moving to A4 of automat_2x4wellplate_20ml on 9\n",
      " Moving to A4 of automat_2x4wellplate_20ml on 9\n",
      " Moving to A4 of automat_2x4wellplate_20ml on 9\n",
      " Delaying for 0 minutes and 1.0 seconds\n",
      " Moving to A4 of automat_2x4wellplate_20ml on 9\n",
      "Conductivity measured: A4!\n",
      " Moving to B1 of automat_2x4wellplate_20ml on 9\n",
      " Moving to B1 of automat_2x4wellplate_20ml on 9\n",
      " Moving to B1 of automat_2x4wellplate_20ml on 9\n",
      " Delaying for 0 minutes and 1.0 seconds\n",
      " Moving to B1 of automat_2x4wellplate_20ml on 9\n",
      "Conductivity measured: B1!\n",
      " Moving to B2 of automat_2x4wellplate_20ml on 9\n",
      " Moving to B2 of automat_2x4wellplate_20ml on 9\n",
      " Moving to B2 of automat_2x4wellplate_20ml on 9\n",
      " Delaying for 0 minutes and 1.0 seconds\n",
      " Moving to B2 of automat_2x4wellplate_20ml on 9\n",
      "Conductivity measured: B2!\n",
      " Moving to B3 of automat_2x4wellplate_20ml on 9\n",
      " Moving to B3 of automat_2x4wellplate_20ml on 9\n",
      " Moving to B3 of automat_2x4wellplate_20ml on 9\n",
      "Interruption detedted: 2023-12-21 11:18:20.505894\n",
      "Interrupted: 2023-12-21 11:18:20.522397\n"
     ]
    }
   ],
   "source": [
    "ot2.execute(\"move_around2.py\", mode=\"ot2\")"
   ]
  },
  {
   "cell_type": "code",
   "execution_count": 21,
   "metadata": {},
   "outputs": [
    {
     "name": "stdout",
     "output_type": "stream",
     "text": [
      "/data/user_storage/demo_exp_1\n",
      "/data/robot_settings.json not found. Loading defaults\n",
      "/data/deck_calibration.json not found. Loading defaults\n",
      "[(2, 'A3'), (6, 'A3'), 20]\n",
      "[(2, 'A3'), (6, 'A4'), 10]\n",
      "[(2, 'A4'), (6, 'A3'), 10]\n",
      "[(2, 'A4'), (6, 'A4'), 20]\n",
      " Picking up tip from A1 of Opentrons 96 Tip Rack 1000 µL on 1\n",
      "Out of bounds move: A=(170.15000000000003 motor controller, 170.15000000000003 deck) too high for limit 170.15\n",
      "Out of bounds move: A=(170.15000000000003 motor controller, 170.15000000000003 deck) too high for limit 170.15\n",
      "Dispensing 20.0 uL from (2, 'A3') to (6, 'A3')\n",
      "Out of bounds move: A=(170.15000000000003 motor controller, 170.15000000000003 deck) too high for limit 170.15\n",
      "Out of bounds move: A=(170.15000000000003 motor controller, 170.15000000000003 deck) too high for limit 170.15\n",
      " Aspirating 20.0 uL from A3 of automat_2x4wellplate_20ml on 2 at 274.7 uL/sec\n",
      " Delaying for 0 minutes and 1.0 seconds\n",
      " Touching tip\n",
      " Dispensing 20.0 uL into A3 of automat_2x4wellplate_20ml on 6 at 274.7 uL/sec\n",
      " Blowing out at A3 of automat_2x4wellplate_20ml on 6\n",
      " Delaying for 0 minutes and 1.0 seconds\n",
      "Dispensing 10.0 uL from (2, 'A3') to (6, 'A4')\n",
      " Aspirating 10.0 uL from A3 of automat_2x4wellplate_20ml on 2 at 274.7 uL/sec\n",
      " Delaying for 0 minutes and 1.0 seconds\n",
      " Touching tip\n",
      " Dispensing 10.0 uL into A4 of automat_2x4wellplate_20ml on 6 at 274.7 uL/sec\n",
      " Blowing out at A4 of automat_2x4wellplate_20ml on 6\n",
      " Delaying for 0 minutes and 1.0 seconds\n",
      "Dispensing 10.0 uL from (2, 'A4') to (6, 'A3')\n",
      " Aspirating 10.0 uL from A4 of automat_2x4wellplate_20ml on 2 at 274.7 uL/sec\n",
      " Delaying for 0 minutes and 1.0 seconds\n",
      " Touching tip\n",
      " Dispensing 10.0 uL into A3 of automat_2x4wellplate_20ml on 6 at 274.7 uL/sec\n",
      " Blowing out at A3 of automat_2x4wellplate_20ml on 6\n",
      " Delaying for 0 minutes and 1.0 seconds\n",
      "Dispensing 20.0 uL from (2, 'A4') to (6, 'A4')\n",
      " Aspirating 20.0 uL from A4 of automat_2x4wellplate_20ml on 2 at 274.7 uL/sec\n",
      " Delaying for 0 minutes and 1.0 seconds\n",
      " Touching tip\n",
      " Dispensing 20.0 uL into A4 of automat_2x4wellplate_20ml on 6 at 274.7 uL/sec\n",
      " Blowing out at A4 of automat_2x4wellplate_20ml on 6\n",
      " Delaying for 0 minutes and 1.0 seconds\n",
      " Dropping tip into A1 of Opentrons Fixed Trash on 12\n",
      " Moving to A3 of automat_2x4wellplate_20ml on 6\n",
      " Moving to A3 of automat_2x4wellplate_20ml on 6\n",
      " Moving to A3 of automat_2x4wellplate_20ml on 6\n",
      " Delaying for 0 minutes and 1.0 seconds\n",
      " Moving to A3 of automat_2x4wellplate_20ml on 6\n",
      "Conductivity measured: A3!\n",
      " Moving to A4 of automat_2x4wellplate_20ml on 6\n",
      " Moving to A4 of automat_2x4wellplate_20ml on 6\n",
      " Moving to A4 of automat_2x4wellplate_20ml on 6\n",
      " Delaying for 0 minutes and 1.0 seconds\n",
      " Moving to A4 of automat_2x4wellplate_20ml on 6\n",
      "Conductivity measured: A4!\n",
      "Demo finished...\n"
     ]
    }
   ],
   "source": [
    "ot2.execute(\"make_solutions.py\", mode=\"ot2\")"
   ]
  },
  {
   "cell_type": "code",
   "execution_count": null,
   "metadata": {},
   "outputs": [],
   "source": []
  }
 ],
 "metadata": {
  "kernelspec": {
   "display_name": "Python 3 (ipykernel)",
   "language": "python",
   "name": "python3"
  },
  "language_info": {
   "codemirror_mode": {
    "name": "ipython",
    "version": 3
   },
   "file_extension": ".py",
   "mimetype": "text/x-python",
   "name": "python",
   "nbconvert_exporter": "python",
   "pygments_lexer": "ipython3",
   "version": "3.9.12"
  }
 },
 "nbformat": 4,
 "nbformat_minor": 2
}
