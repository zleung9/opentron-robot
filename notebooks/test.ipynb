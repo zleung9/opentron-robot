{
 "cells": [
  {
   "cell_type": "code",
   "execution_count": 15,
   "metadata": {},
   "outputs": [],
   "source": [
    "import os\n",
    "from auto.utils.remote import RemoteStation\n",
    "%reload_ext autoreload\n",
    "%autoreload 1\n",
    "%aimport auto\n",
    "%aimport auto.utils"
   ]
  },
  {
   "cell_type": "code",
   "execution_count": 16,
   "metadata": {},
   "outputs": [],
   "source": [
    "ot2 = RemoteStation(\"OT2\", execution_mode=\"ot2\")\n",
    "ot2.connect(\n",
    "    hostname=\"169.254.230.44\", \n",
    "    port=22,\n",
    "    key_path=\"C:\\\\Users\\\\Automat\\\\Documents\\\\automation_control\\\\.ssh\\\\ssh_key_OT2_SDWF\"\n",
    ")"
   ]
  },
  {
   "cell_type": "code",
   "execution_count": 17,
   "metadata": {},
   "outputs": [],
   "source": [
    "#Update script to OT2\n",
    "ot2.load(\n",
    "    [\"demo_exp_1\"],\n",
    "    local_path='C:\\\\users\\\\automat\\\\documents\\\\automation_control\\\\scripts\\\\' \n",
    ")\n",
    "ot2.work_dir = os.path.join(ot2.remote_root_dir, \"demo_exp_1/\")"
   ]
  },
  {
   "cell_type": "code",
   "execution_count": 19,
   "metadata": {},
   "outputs": [
    {
     "data": {
      "text/plain": [
       "'/data/user_storage/'"
      ]
     },
     "execution_count": 19,
     "metadata": {},
     "output_type": "execute_result"
    }
   ],
   "source": [
    "ot2.remote_root_dir"
   ]
  },
  {
   "cell_type": "code",
   "execution_count": 18,
   "metadata": {},
   "outputs": [
    {
     "data": {
      "text/plain": [
       "'/data/user_storage/demo_exp_1/'"
      ]
     },
     "execution_count": 18,
     "metadata": {},
     "output_type": "execute_result"
    }
   ],
   "source": [
    "ot2.work_dir"
   ]
  },
  {
   "cell_type": "code",
   "execution_count": 25,
   "metadata": {},
   "outputs": [
    {
     "name": "stdout",
     "output_type": "stream",
     "text": [
      "/data/user_storage/demo_exp_1\n",
      "robot server stopped\n"
     ]
    }
   ],
   "source": [
    "ot2.execute(\"stop.py\", mode=\"python\")\n"
   ]
  },
  {
   "cell_type": "code",
   "execution_count": 26,
   "metadata": {},
   "outputs": [],
   "source": [
    "# ot2.execute(\"start.py\", mode=\"python\")"
   ]
  },
  {
   "cell_type": "code",
   "execution_count": 27,
   "metadata": {},
   "outputs": [
    {
     "name": "stdout",
     "output_type": "stream",
     "text": [
      "/data/user_storage/demo_exp_1\n",
      "Server is up and listing on the port 23...\n",
      "Connected to Client at: ('169.254.47.237', 54362)!\n",
      "Moving things around and making solutions...\n",
      "Measurement in progress...\n",
      "Measurement completed...\n",
      "Finish\n",
      "Moving things around and making solutions...\n",
      "Moving things around and making solutions...\n",
      "Traceback (most recent call last):\n",
      "  File \"move_around.py\", line 28, in <module>\n",
      "    run(None)\n",
      "  File \"move_around.py\", line 21, in run\n",
      "    cm.read_cond(append=True)\n",
      "TypeError: read_cond() missing 1 required positional argument: 'slot'\n"
     ]
    }
   ],
   "source": [
    "ot2.execute(\"move_around.py\", mode=\"python\")"
   ]
  },
  {
   "cell_type": "code",
   "execution_count": 29,
   "metadata": {},
   "outputs": [
    {
     "name": "stdout",
     "output_type": "stream",
     "text": [
      "/data/user_storage/demo_exp_1\n",
      "/data/robot_settings.json not found. Loading defaults\n",
      "/data/deck_calibration.json not found. Loading defaults\n",
      "Server is up and listing on the port 23...\n",
      "Connected to Client at: ('169.254.47.237', 54602)!\n",
      " Delaying for 0 minutes and 3.0 seconds\n",
      " Moving to B1 of automat_2x4wellplate_20ml on 9\n",
      "Out of bounds move: A=(170.15000000000003 motor controller, 170.15000000000003 deck) too high for limit 170.15\n",
      "Out of bounds move: A=(170.15000000000003 motor controller, 170.15000000000003 deck) too high for limit 170.15\n",
      " Picking up tip from A1 of Opentrons 96 Tip Rack 1000 µL on 1\n",
      " Moving to B1 of automat_2x4wellplate_20ml on 9\n",
      "Out of bounds move: A=(170.15000000000003 motor controller, 170.15000000000003 deck) too high for limit 170.15\n",
      "Out of bounds move: A=(170.15000000000003 motor controller, 170.15000000000003 deck) too high for limit 170.15\n",
      " Moving to B1 of automat_2x4wellplate_20ml on 9\n",
      " Moving to B1 of automat_2x4wellplate_20ml on 9\n",
      " Dropping tip into A1 of Opentrons 96 Tip Rack 1000 µL on 1\n"
     ]
    },
    {
     "ename": "KeyboardInterrupt",
     "evalue": "",
     "output_type": "error",
     "traceback": [
      "\u001b[1;31m---------------------------------------------------------------------------\u001b[0m",
      "\u001b[1;31mKeyboardInterrupt\u001b[0m                         Traceback (most recent call last)",
      "\u001b[1;32mc:\\Users\\Automat\\Documents\\automation_control\\notebooks\\test.ipynb Cell 9\u001b[0m line \u001b[0;36m<cell line: 1>\u001b[1;34m()\u001b[0m\n\u001b[1;32m----> <a href='vscode-notebook-cell:/c%3A/Users/Automat/Documents/automation_control/notebooks/test.ipynb#X53sZmlsZQ%3D%3D?line=0'>1</a>\u001b[0m ot2\u001b[39m.\u001b[39;49mexecute(\u001b[39m\"\u001b[39;49m\u001b[39mmove_around2.py\u001b[39;49m\u001b[39m\"\u001b[39;49m, mode\u001b[39m=\u001b[39;49m\u001b[39m\"\u001b[39;49m\u001b[39mot2\u001b[39;49m\u001b[39m\"\u001b[39;49m)\n",
      "File \u001b[1;32mc:\\users\\automat\\documents\\automation_control\\auto\\utils\\remote.py:135\u001b[0m, in \u001b[0;36mRemoteStation.execute\u001b[1;34m(self, filename, log, mode)\u001b[0m\n\u001b[0;32m    131\u001b[0m \u001b[39m# stdout = stdout.read().decode() # read text from ChannelFile object\u001b[39;00m\n\u001b[0;32m    132\u001b[0m \n\u001b[0;32m    133\u001b[0m \u001b[39m# post-execution logging\u001b[39;00m\n\u001b[0;32m    134\u001b[0m \u001b[39mif\u001b[39;00m \u001b[39mTrue\u001b[39;00m:\n\u001b[1;32m--> 135\u001b[0m     \u001b[39mfor\u001b[39;00m line \u001b[39min\u001b[39;00m stdout:\n\u001b[0;32m    136\u001b[0m         \u001b[39mprint\u001b[39m(line\u001b[39m.\u001b[39mrstrip())\n",
      "File \u001b[1;32mc:\\ProgramData\\Anaconda3\\lib\\site-packages\\paramiko\\file.py:125\u001b[0m, in \u001b[0;36mBufferedFile.__next__\u001b[1;34m(self)\u001b[0m\n\u001b[0;32m    115\u001b[0m \u001b[39mdef\u001b[39;00m \u001b[39m__next__\u001b[39m(\u001b[39mself\u001b[39m):\n\u001b[0;32m    116\u001b[0m     \u001b[39m\"\"\"\u001b[39;00m\n\u001b[0;32m    117\u001b[0m \u001b[39m    Returns the next line from the input, or raises ``StopIteration``\u001b[39;00m\n\u001b[0;32m    118\u001b[0m \u001b[39m    when EOF is hit.  Unlike python file objects, it's okay to mix\u001b[39;00m\n\u001b[1;32m   (...)\u001b[0m\n\u001b[0;32m    123\u001b[0m \u001b[39m    :returns: a line (`str`) read from the file.\u001b[39;00m\n\u001b[0;32m    124\u001b[0m \u001b[39m    \"\"\"\u001b[39;00m\n\u001b[1;32m--> 125\u001b[0m     line \u001b[39m=\u001b[39m \u001b[39mself\u001b[39;49m\u001b[39m.\u001b[39;49mreadline()\n\u001b[0;32m    126\u001b[0m     \u001b[39mif\u001b[39;00m \u001b[39mnot\u001b[39;00m line:\n\u001b[0;32m    127\u001b[0m         \u001b[39mraise\u001b[39;00m \u001b[39mStopIteration\u001b[39;00m\n",
      "File \u001b[1;32mc:\\ProgramData\\Anaconda3\\lib\\site-packages\\paramiko\\file.py:291\u001b[0m, in \u001b[0;36mBufferedFile.readline\u001b[1;34m(self, size)\u001b[0m\n\u001b[0;32m    289\u001b[0m     \u001b[39mbreak\u001b[39;00m\n\u001b[0;32m    290\u001b[0m \u001b[39mtry\u001b[39;00m:\n\u001b[1;32m--> 291\u001b[0m     new_data \u001b[39m=\u001b[39m \u001b[39mself\u001b[39;49m\u001b[39m.\u001b[39;49m_read(n)\n\u001b[0;32m    292\u001b[0m \u001b[39mexcept\u001b[39;00m \u001b[39mEOFError\u001b[39;00m:\n\u001b[0;32m    293\u001b[0m     new_data \u001b[39m=\u001b[39m \u001b[39mNone\u001b[39;00m\n",
      "File \u001b[1;32mc:\\ProgramData\\Anaconda3\\lib\\site-packages\\paramiko\\channel.py:1361\u001b[0m, in \u001b[0;36mChannelFile._read\u001b[1;34m(self, size)\u001b[0m\n\u001b[0;32m   1360\u001b[0m \u001b[39mdef\u001b[39;00m \u001b[39m_read\u001b[39m(\u001b[39mself\u001b[39m, size):\n\u001b[1;32m-> 1361\u001b[0m     \u001b[39mreturn\u001b[39;00m \u001b[39mself\u001b[39;49m\u001b[39m.\u001b[39;49mchannel\u001b[39m.\u001b[39;49mrecv(size)\n",
      "File \u001b[1;32mc:\\ProgramData\\Anaconda3\\lib\\site-packages\\paramiko\\channel.py:699\u001b[0m, in \u001b[0;36mChannel.recv\u001b[1;34m(self, nbytes)\u001b[0m\n\u001b[0;32m    686\u001b[0m \u001b[39m\"\"\"\u001b[39;00m\n\u001b[0;32m    687\u001b[0m \u001b[39mReceive data from the channel.  The return value is a string\u001b[39;00m\n\u001b[0;32m    688\u001b[0m \u001b[39mrepresenting the data received.  The maximum amount of data to be\u001b[39;00m\n\u001b[1;32m   (...)\u001b[0m\n\u001b[0;32m    696\u001b[0m \u001b[39m    if no data is ready before the timeout set by `settimeout`.\u001b[39;00m\n\u001b[0;32m    697\u001b[0m \u001b[39m\"\"\"\u001b[39;00m\n\u001b[0;32m    698\u001b[0m \u001b[39mtry\u001b[39;00m:\n\u001b[1;32m--> 699\u001b[0m     out \u001b[39m=\u001b[39m \u001b[39mself\u001b[39;49m\u001b[39m.\u001b[39;49min_buffer\u001b[39m.\u001b[39;49mread(nbytes, \u001b[39mself\u001b[39;49m\u001b[39m.\u001b[39;49mtimeout)\n\u001b[0;32m    700\u001b[0m \u001b[39mexcept\u001b[39;00m PipeTimeout:\n\u001b[0;32m    701\u001b[0m     \u001b[39mraise\u001b[39;00m socket\u001b[39m.\u001b[39mtimeout()\n",
      "File \u001b[1;32mc:\\ProgramData\\Anaconda3\\lib\\site-packages\\paramiko\\buffered_pipe.py:160\u001b[0m, in \u001b[0;36mBufferedPipe.read\u001b[1;34m(self, nbytes, timeout)\u001b[0m\n\u001b[0;32m    158\u001b[0m \u001b[39mwhile\u001b[39;00m (\u001b[39mlen\u001b[39m(\u001b[39mself\u001b[39m\u001b[39m.\u001b[39m_buffer) \u001b[39m==\u001b[39m \u001b[39m0\u001b[39m) \u001b[39mand\u001b[39;00m \u001b[39mnot\u001b[39;00m \u001b[39mself\u001b[39m\u001b[39m.\u001b[39m_closed:\n\u001b[0;32m    159\u001b[0m     then \u001b[39m=\u001b[39m time\u001b[39m.\u001b[39mtime()\n\u001b[1;32m--> 160\u001b[0m     \u001b[39mself\u001b[39;49m\u001b[39m.\u001b[39;49m_cv\u001b[39m.\u001b[39;49mwait(timeout)\n\u001b[0;32m    161\u001b[0m     \u001b[39mif\u001b[39;00m timeout \u001b[39mis\u001b[39;00m \u001b[39mnot\u001b[39;00m \u001b[39mNone\u001b[39;00m:\n\u001b[0;32m    162\u001b[0m         timeout \u001b[39m-\u001b[39m\u001b[39m=\u001b[39m time\u001b[39m.\u001b[39mtime() \u001b[39m-\u001b[39m then\n",
      "File \u001b[1;32mc:\\ProgramData\\Anaconda3\\lib\\threading.py:312\u001b[0m, in \u001b[0;36mCondition.wait\u001b[1;34m(self, timeout)\u001b[0m\n\u001b[0;32m    310\u001b[0m \u001b[39mtry\u001b[39;00m:    \u001b[39m# restore state no matter what (e.g., KeyboardInterrupt)\u001b[39;00m\n\u001b[0;32m    311\u001b[0m     \u001b[39mif\u001b[39;00m timeout \u001b[39mis\u001b[39;00m \u001b[39mNone\u001b[39;00m:\n\u001b[1;32m--> 312\u001b[0m         waiter\u001b[39m.\u001b[39;49macquire()\n\u001b[0;32m    313\u001b[0m         gotit \u001b[39m=\u001b[39m \u001b[39mTrue\u001b[39;00m\n\u001b[0;32m    314\u001b[0m     \u001b[39melse\u001b[39;00m:\n",
      "\u001b[1;31mKeyboardInterrupt\u001b[0m: "
     ]
    }
   ],
   "source": [
    "ot2.execute(\"move_around2.py\", mode=\"ot2\")"
   ]
  },
  {
   "cell_type": "code",
   "execution_count": 13,
   "metadata": {},
   "outputs": [
    {
     "name": "stdout",
     "output_type": "stream",
     "text": [
      "Measuring conductivity...\n",
      "Conductivity of this sample is: 0.0uS/cm\n",
      "Temperature at time of measurement is: 26.8C\n",
      "True\n",
      "0.0\n",
      "26.8\n",
      " \n"
     ]
    }
   ],
   "source": [
    "stdout, stderr = ot2.execute(\"read_cond.py\", mode=\"python\")\n",
    "print(stdout, stderr)"
   ]
  },
  {
   "cell_type": "code",
   "execution_count": null,
   "metadata": {},
   "outputs": [
    {
     "name": "stdout",
     "output_type": "stream",
     "text": [
      "Measuring conductivity...\n",
      "Conductivity of this sample is: 0.0uS/cm\n",
      "Temperature at time of measurement is: 26.8C\n",
      "True\n",
      "0.0\n",
      "26.8\n",
      " \n"
     ]
    }
   ],
   "source": [
    "stdout, stderr = ot2.execute(\"read_cond.py\", mode=\"python\")\n",
    "print(stdout, stderr)"
   ]
  },
  {
   "cell_type": "code",
   "execution_count": 62,
   "metadata": {},
   "outputs": [
    {
     "name": "stdout",
     "output_type": "stream",
     "text": [
      "/data/robot_settings.json not found. Loading defaults\n",
      "Failed to initialize character device, will not be able to control gpios (lights, button, smoothiekill, smoothie reset). Only one connection can be made to the gpios at a time. If you need to control gpios, first stop the robot server with systemctl stop opentrons-robot-server. Until you restart the server with systemctl start opentrons-robot-server, you will be unable to control the robot using the Opentrons app.\n",
      "/data/deck_calibration.json not found. Loading defaults\n",
      " Picking up tip from A1 of Opentrons 96 Tip Rack 1000 µL on 11\n",
      "Out of bounds move: A=(170.15000000000003 motor controller, 170.15000000000003 deck) too high for limit 170.15\n",
      "Out of bounds move: A=(170.15000000000003 motor controller, 170.15000000000003 deck) too high for limit 170.15\n",
      " Dropping tip into B4 of Opentrons 96 Tip Rack 1000 µL on 11\n",
      "Out of bounds move: A=(170.15000000000003 motor controller, 170.15000000000003 deck) too high for limit 170.15\n",
      "Out of bounds move: A=(170.15000000000003 motor controller, 170.15000000000003 deck) too high for limit 170.15\n",
      " Delaying for 0 minutes and 2.0 seconds\n",
      " Picking up tip from A1 of Opentrons 96 Tip Rack 1000 µL on 5\n",
      " Delaying for 0 minutes and 2.0 seconds\n",
      " Moving to B1 of automat_2x4wellplate_20ml on 9\n",
      "Out of bounds move: A=(170.15000000000003 motor controller, 170.15000000000003 deck) too high for limit 170.15\n",
      "Out of bounds move: A=(170.15000000000003 motor controller, 170.15000000000003 deck) too high for limit 170.15\n",
      " Moving to B1 of automat_2x4wellplate_20ml on 9\n",
      " Moving to B1 of automat_2x4wellplate_20ml on 9\n",
      " \n"
     ]
    }
   ],
   "source": [
    "ot2.execute(\"move_around2.py\")"
   ]
  },
  {
   "cell_type": "code",
   "execution_count": 4,
   "metadata": {},
   "outputs": [],
   "source": [
    "# Execution\n",
    "ot2.execute(\"start.py\")\n",
    "ot2.execute(\"move_around.py\")\n",
    "cond_stdout, cond_stderr = cond_meter.execute(\"get_cond.py\")\n",
    "volt_stdout, volt_stderr = squidstat.execute(\"get_voltage.py\")\n",
    "stdout, stderr = ot2.execute(\"home.py\")\n",
    "ot2.execute(\"stop.py\")"
   ]
  },
  {
   "cell_type": "code",
   "execution_count": 29,
   "metadata": {},
   "outputs": [
    {
     "data": {
      "text/plain": [
       "[]"
      ]
     },
     "execution_count": 29,
     "metadata": {},
     "output_type": "execute_result"
    }
   ],
   "source": [
    "stdout.readlines()"
   ]
  },
  {
   "cell_type": "code",
   "execution_count": 119,
   "metadata": {},
   "outputs": [],
   "source": [
    "stdout, stderr = b.execute(\"8SDWFcond_temp.py\", mode=\"ot2\")"
   ]
  },
  {
   "cell_type": "code",
   "execution_count": null,
   "metadata": {},
   "outputs": [],
   "source": [
    "stdout, stderr = ot2.execute(\"socket_server.py\", mode=\"python\")\n",
    "print(stdout, stderr)"
   ]
  },
  {
   "cell_type": "code",
   "execution_count": 130,
   "metadata": {},
   "outputs": [],
   "source": [
    "import socket\n",
    "\n",
    "HOST = \"169.254.230.44\"  # Standard loopback interface address (localhost)\n",
    "PORT = 23  # Port to listen on (non-privileged ports are > 1023)\n",
    "\n",
    "s1 = socket.socket(socket.AF_INET, socket.SOCK_STREAM)\n",
    "s1.connect((HOST, PORT))\n",
    "s1.settimeout(5)"
   ]
  },
  {
   "cell_type": "code",
   "execution_count": 147,
   "metadata": {},
   "outputs": [
    {
     "ename": "OSError",
     "evalue": "[WinError 10038] An operation was attempted on something that is not a socket",
     "output_type": "error",
     "traceback": [
      "\u001b[1;31m---------------------------------------------------------------------------\u001b[0m",
      "\u001b[1;31mOSError\u001b[0m                                   Traceback (most recent call last)",
      "\u001b[1;32mc:\\Users\\Automat\\Documents\\automation_control\\notebooks\\test.ipynb Cell 14\u001b[0m line \u001b[0;36m<cell line: 1>\u001b[1;34m()\u001b[0m\n\u001b[1;32m----> <a href='vscode-notebook-cell:/c%3A/Users/Automat/Documents/automation_control/notebooks/test.ipynb#X32sZmlsZQ%3D%3D?line=0'>1</a>\u001b[0m s1\u001b[39m.\u001b[39;49msend(\u001b[39mb\u001b[39;49m\u001b[39m\"\u001b[39;49m\u001b[39ms\u001b[39;49m\u001b[39m\"\u001b[39;49m)\n",
      "\u001b[1;31mOSError\u001b[0m: [WinError 10038] An operation was attempted on something that is not a socket"
     ]
    }
   ],
   "source": [
    "s1.send(b\"s\")"
   ]
  },
  {
   "cell_type": "code",
   "execution_count": 149,
   "metadata": {},
   "outputs": [
    {
     "ename": "OSError",
     "evalue": "[WinError 10038] An operation was attempted on something that is not a socket",
     "output_type": "error",
     "traceback": [
      "\u001b[1;31m---------------------------------------------------------------------------\u001b[0m",
      "\u001b[1;31mOSError\u001b[0m                                   Traceback (most recent call last)",
      "\u001b[1;32mc:\\Users\\Automat\\Documents\\automation_control\\notebooks\\test.ipynb Cell 15\u001b[0m line \u001b[0;36m<cell line: 1>\u001b[1;34m()\u001b[0m\n\u001b[0;32m      <a href='vscode-notebook-cell:/c%3A/Users/Automat/Documents/automation_control/notebooks/test.ipynb#X33sZmlsZQ%3D%3D?line=0'>1</a>\u001b[0m \u001b[39mtry\u001b[39;00m:\n\u001b[1;32m----> <a href='vscode-notebook-cell:/c%3A/Users/Automat/Documents/automation_control/notebooks/test.ipynb#X33sZmlsZQ%3D%3D?line=1'>2</a>\u001b[0m     \u001b[39mprint\u001b[39m(s1\u001b[39m.\u001b[39;49mrecv(\u001b[39m1024\u001b[39;49m))\n\u001b[0;32m      <a href='vscode-notebook-cell:/c%3A/Users/Automat/Documents/automation_control/notebooks/test.ipynb#X33sZmlsZQ%3D%3D?line=2'>3</a>\u001b[0m \u001b[39mexcept\u001b[39;00m socket\u001b[39m.\u001b[39mtimeout \u001b[39mas\u001b[39;00m e:\n\u001b[0;32m      <a href='vscode-notebook-cell:/c%3A/Users/Automat/Documents/automation_control/notebooks/test.ipynb#X33sZmlsZQ%3D%3D?line=3'>4</a>\u001b[0m     \u001b[39mprint\u001b[39m(e)\n",
      "\u001b[1;31mOSError\u001b[0m: [WinError 10038] An operation was attempted on something that is not a socket"
     ]
    }
   ],
   "source": [
    "try:\n",
    "    print(s1.recv(1024))\n",
    "except socket.timeout as e:\n",
    "    print(e)\n",
    "    print(type(e))"
   ]
  },
  {
   "cell_type": "code",
   "execution_count": 146,
   "metadata": {},
   "outputs": [],
   "source": [
    "s1.close()"
   ]
  },
  {
   "cell_type": "code",
   "execution_count": 84,
   "metadata": {},
   "outputs": [],
   "source": [
    "import socket\n",
    "\n",
    "HOST = \"169.254.230.44\"  # Standard loopback interface address (localhost)\n",
    "PORT = 24  # Port to listen on (non-privileged ports are > 1023)\n",
    "\n",
    "s2 = socket.socket(socket.AF_INET, socket.SOCK_STREAM)\n",
    "s2.connect((HOST, PORT))\n",
    "s2.settimeout(5)"
   ]
  },
  {
   "cell_type": "code",
   "execution_count": 108,
   "metadata": {},
   "outputs": [
    {
     "ename": "ConnectionAbortedError",
     "evalue": "[WinError 10053] An established connection was aborted by the software in your host machine",
     "output_type": "error",
     "traceback": [
      "\u001b[1;31m---------------------------------------------------------------------------\u001b[0m",
      "\u001b[1;31mConnectionAbortedError\u001b[0m                    Traceback (most recent call last)",
      "\u001b[1;32mc:\\Users\\Automat\\Documents\\automation_control\\notebooks\\test.ipynb Cell 17\u001b[0m line \u001b[0;36m<cell line: 1>\u001b[1;34m()\u001b[0m\n\u001b[1;32m----> <a href='vscode-notebook-cell:/c%3A/Users/Automat/Documents/automation_control/notebooks/test.ipynb#X42sZmlsZQ%3D%3D?line=0'>1</a>\u001b[0m s2\u001b[39m.\u001b[39;49mrecv(\u001b[39m1024\u001b[39;49m)\n",
      "\u001b[1;31mConnectionAbortedError\u001b[0m: [WinError 10053] An established connection was aborted by the software in your host machine"
     ]
    }
   ],
   "source": [
    "s2.recv(1024)"
   ]
  },
  {
   "cell_type": "code",
   "execution_count": 107,
   "metadata": {},
   "outputs": [
    {
     "data": {
      "text/plain": [
       "3"
      ]
     },
     "execution_count": 107,
     "metadata": {},
     "output_type": "execute_result"
    }
   ],
   "source": [
    "s2.send(b\"BYE\")"
   ]
  },
  {
   "cell_type": "code",
   "execution_count": 92,
   "metadata": {},
   "outputs": [
    {
     "data": {
      "text/plain": [
       "b'Server: start'"
      ]
     },
     "execution_count": 92,
     "metadata": {},
     "output_type": "execute_result"
    }
   ],
   "source": [
    "s2.recv(1024)"
   ]
  }
 ],
 "metadata": {
  "kernelspec": {
   "display_name": "Python 3 (ipykernel)",
   "language": "python",
   "name": "python3"
  },
  "language_info": {
   "codemirror_mode": {
    "name": "ipython",
    "version": 3
   },
   "file_extension": ".py",
   "mimetype": "text/x-python",
   "name": "python",
   "nbconvert_exporter": "python",
   "pygments_lexer": "ipython3",
   "version": "3.9.12"
  }
 },
 "nbformat": 4,
 "nbformat_minor": 2
}
